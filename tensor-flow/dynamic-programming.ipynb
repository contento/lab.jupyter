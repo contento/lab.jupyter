{
 "cells": [
  {
   "cell_type": "markdown",
   "metadata": {},
   "source": [
    "# Dynamic Programming"
   ]
  },
  {
   "cell_type": "markdown",
   "metadata": {},
   "source": [
    "\n",
    "## [1. Recursion](#1.-Recursion)"
   ]
  },
  {
   "cell_type": "code",
   "execution_count": 2,
   "metadata": {},
   "outputs": [
    {
     "name": "stdout",
     "output_type": "stream",
     "text": [
      "55\n"
     ]
    }
   ],
   "source": [
    "def fibonacci_classic(n):\n",
    "    if n == 0:\n",
    "        return 0\n",
    "    elif n == 1:\n",
    "        return 1\n",
    "    else:\n",
    "        return fibonacci_classic(n-1) + fibonacci_classic(n-2)\n",
    "\n",
    "# Test the function\n",
    "print(fibonacci_classic(10))  # Should print 55\n",
    "\n",
    "# Be cautious with large numbers; it will take a lot of time\n",
    "# print(fibonacci_classic(50))\n"
   ]
  },
  {
   "cell_type": "markdown",
   "metadata": {},
   "source": [
    "\n",
    "## [2. Memoization](#2.-Memoization)\n",
    "\n",
    "This function uses a dictionary called memo to store previously computed Fibonacci numbers. When you call fibonacci(n, memo), it first checks if n is already in the memo. If it is, it returns the stored value. If not, it computes it, stores it, and then returns it."
   ]
  },
  {
   "cell_type": "code",
   "execution_count": 3,
   "metadata": {},
   "outputs": [
    {
     "name": "stdout",
     "output_type": "stream",
     "text": [
      "55\n",
      "12586269025\n"
     ]
    }
   ],
   "source": [
    "def fibonacci(n, memo={}):\n",
    "    # Base cases\n",
    "    if n == 0:\n",
    "        return 0\n",
    "    if n == 1:\n",
    "        return 1\n",
    "\n",
    "    # Check if result already in memo\n",
    "    if n in memo:\n",
    "        return memo[n]\n",
    "\n",
    "    # Compute and store in memo\n",
    "    memo[n] = fibonacci(n-1, memo) + fibonacci(n-2, memo)\n",
    "    \n",
    "    return memo[n]\n",
    "\n",
    "# Test the function\n",
    "print(fibonacci(10))  # Should print 55\n",
    "print(fibonacci(50))  # Should print 12586269025\n"
   ]
  },
  {
   "cell_type": "markdown",
   "metadata": {},
   "source": [
    "## [3. Bottom-up](#3.-Bottom-up)\n",
    "\n",
    "In this example, I create an array fib of length n + 1 to hold our Fibonacci numbers. I initialize fib[0] and fib[1] to 0 and 1, respectively, and then fill in the rest of the array iteratively. Finally, fib[n] contains our answer.\n",
    "\n",
    "This approach runs in O(n) time and O(n) space, but you can optimize the space to O(1) if you keep track of only the last two Fibonacci numbers instead of using an array to hold all of them."
   ]
  },
  {
   "cell_type": "code",
   "execution_count": 5,
   "metadata": {},
   "outputs": [
    {
     "name": "stdout",
     "output_type": "stream",
     "text": [
      "55\n",
      "12586269025\n",
      "354224848179261915075\n"
     ]
    }
   ],
   "source": [
    "def fibonacci_bottom_up(n):\n",
    "    if n == 0:\n",
    "        return 0\n",
    "    if n == 1:\n",
    "        return 1\n",
    "\n",
    "    fib = [0] * (n + 1)\n",
    "    fib[1] = 1\n",
    "\n",
    "    for i in range(2, n + 1):\n",
    "        fib[i] = fib[i - 1] + fib[i - 2]\n",
    "\n",
    "    return fib[n]\n",
    "\n",
    "# Test the function\n",
    "print(fibonacci_bottom_up(10))  # Should print 55\n",
    "print(fibonacci_bottom_up(50))  # Should print 12586269025\n",
    "print(fibonacci_bottom_up(100))  # Should print 354224848179261915075\n"
   ]
  }
 ],
 "metadata": {
  "kernelspec": {
   "display_name": ".venv",
   "language": "python",
   "name": "python3"
  },
  "language_info": {
   "codemirror_mode": {
    "name": "ipython",
    "version": 3
   },
   "file_extension": ".py",
   "mimetype": "text/x-python",
   "name": "python",
   "nbconvert_exporter": "python",
   "pygments_lexer": "ipython3",
   "version": "3.10.0"
  }
 },
 "nbformat": 4,
 "nbformat_minor": 2
}

{
 "cells": [
  {
   "cell_type": "markdown",
   "metadata": {},
   "source": [
    "# html-2-json.ipynb"
   ]
  },
  {
   "cell_type": "markdown",
   "metadata": {},
   "source": [
    "## Installation \n",
    "\n",
    "See [README.md](README.md) for installation instructions."
   ]
  },
  {
   "cell_type": "code",
   "execution_count": 1,
   "metadata": {},
   "outputs": [
    {
     "name": "stdout",
     "output_type": "stream",
     "text": [
      "Requirement already satisfied: beautifulsoup4 in c:\\users\\conte\\projects\\contento\\lab.jupyter\\html-2-json\\.venv\\lib\\site-packages (4.12.2)\n",
      "Requirement already satisfied: soupsieve>1.2 in c:\\users\\conte\\projects\\contento\\lab.jupyter\\html-2-json\\.venv\\lib\\site-packages (from beautifulsoup4) (2.5)\n"
     ]
    }
   ],
   "source": [
    "!pip install -U beautifulsoup4"
   ]
  },
  {
   "cell_type": "markdown",
   "metadata": {},
   "source": [
    "## Common Definitions"
   ]
  },
  {
   "cell_type": "code",
   "execution_count": 2,
   "metadata": {},
   "outputs": [],
   "source": [
    "import json\n",
    "from bs4 import BeautifulSoup\n",
    "import re\n",
    "\n",
    "# Define constants\n",
    "EMAIL_TAG = \"email-tag\"\n",
    "HTML_TEMPLATE_FILE_PATH = \"email-template.html\"\n",
    "JSON_TEMPLATE_FILE_PATH = HTML_TEMPLATE_FILE_PATH.rsplit(\".\", 1)[0] + \".json\"\n",
    "JSON_INPUT_FILE_PATH = \"email-data-input.json\"\n",
    "JSON_OUTPUT_FILE_PATH = \"email-data-output.json\""
   ]
  },
  {
   "cell_type": "markdown",
   "metadata": {},
   "source": [
    "## Convert HTML Template to JSON Template"
   ]
  },
  {
   "cell_type": "code",
   "execution_count": 3,
   "metadata": {},
   "outputs": [
    {
     "name": "stdout",
     "output_type": "stream",
     "text": [
      "{\n",
      "    \"email\": {\n",
      "        \"subject\": \"<b>Meeting Tomorrow</b>\",\n",
      "        \"email-logo\": \"<img alt=\\\"Logo\\\" src=\\\"./email-logo-01.png\\\" style=\\\"width: 20%;\\\"/>\",\n",
      "        \"from\": \"[[email_from]]\",\n",
      "        \"to\": \"[[email_to]]\",\n",
      "        \"cc\": \"[[email_cc]]\",\n",
      "        \"bcc\": \"[[email_bcc]]\",\n",
      "        \"body\": \"Let's meet tomorrow at 10am.<br/>\\n<i style=\\\"font-size: 14pt; color: blue;\\\">Please read the report [[email_report_name]].</i><br/>\\n        and remember:\\n        <ul>\\n<li>Drink H<sub>2</sub>O</li>\\n<li>2<sup>8</sup> = 256</li>\\n</ul>\"\n",
      "    }\n",
      "}\n"
     ]
    }
   ],
   "source": [
    "def extract_nested_tags(tag):\n",
    "    children = {}\n",
    "    for child in tag.find_all(attrs={EMAIL_TAG: True}, recursive=False):\n",
    "        child_tag = child.get(EMAIL_TAG)\n",
    "        children[child_tag] = extract_nested_tags(child)\n",
    "\n",
    "    if children:\n",
    "        return children\n",
    "    else:\n",
    "        return str(tag.encode_contents().decode(\"utf-8\")).strip()\n",
    "\n",
    "\n",
    "def extract_email_tags_to_json(file_path):\n",
    "    with open(file_path, \"r\", encoding=\"utf-8\") as f:\n",
    "        html_content = f.read()\n",
    "\n",
    "    soup = BeautifulSoup(html_content, \"html.parser\")\n",
    "    root_tag = soup.find(attrs={EMAIL_TAG: \"email\"})\n",
    "    if root_tag:\n",
    "        result = {root_tag.get(EMAIL_TAG): extract_nested_tags(root_tag)}\n",
    "        return json.dumps(result, indent=4)\n",
    "    else:\n",
    "        return json.dumps({}, indent=4)\n",
    "\n",
    "\n",
    "def save_json_to_file(json_output, file_path):\n",
    "    with open(file_path, \"w\", encoding=\"utf-8\") as json_file:\n",
    "        json_file.write(json_output)\n",
    "\n",
    "json_output = extract_email_tags_to_json(HTML_TEMPLATE_FILE_PATH)\n",
    "save_json_to_file(json_output, JSON_TEMPLATE_FILE_PATH)\n",
    "print(json_output)\n"
   ]
  },
  {
   "cell_type": "markdown",
   "metadata": {},
   "source": [
    "## Extract Variables from JSON Template [OPTIONAL]"
   ]
  },
  {
   "cell_type": "code",
   "execution_count": 4,
   "metadata": {},
   "outputs": [
    {
     "name": "stdout",
     "output_type": "stream",
     "text": [
      "Variables found:\n",
      "email_from\n",
      "email_report_name\n",
      "email_to\n",
      "email_cc\n",
      "email_bcc\n"
     ]
    }
   ],
   "source": [
    "def find_variables(json_data):\n",
    "    variables = set()\n",
    "    for key, value in json_data.items():\n",
    "        if isinstance(value, dict):\n",
    "            variables.update(find_variables(value))\n",
    "        elif isinstance(value, str):\n",
    "            matches = re.findall(r\"\\[\\[(.*?)\\]\\]\", value)\n",
    "            variables.update(matches)\n",
    "    return variables\n",
    "\n",
    "\n",
    "def print_variables(variables):\n",
    "    print(\"Variables found:\")\n",
    "    for var in variables:\n",
    "        print(var)\n",
    "\n",
    "with open(JSON_TEMPLATE_FILE_PATH, \"r\", encoding=\"utf-8\") as f:\n",
    "    json_data = json.load(f)\n",
    "\n",
    "variables = find_variables(json_data)\n",
    "print_variables(variables)\n"
   ]
  },
  {
   "cell_type": "markdown",
   "metadata": {},
   "source": [
    "## JSON Merge"
   ]
  },
  {
   "cell_type": "code",
   "execution_count": 5,
   "metadata": {},
   "outputs": [
    {
     "name": "stdout",
     "output_type": "stream",
     "text": [
      "{\n",
      "    \"email_001\": {\n",
      "        \"subject\": \"<b>Meeting Tomorrow</b>\",\n",
      "        \"email-logo\": \"<img alt=\\\"Logo\\\" src=\\\"./email-logo-01.png\\\" style=\\\"width: 20%;\\\"/>\",\n",
      "        \"from\": \"joe.001@example.com\",\n",
      "        \"to\": \"tom.001@example.com\",\n",
      "        \"cc\": \"charlie.001@example.com\",\n",
      "        \"bcc\": \"ben.001@example.com\",\n",
      "        \"body\": \"Let's meet tomorrow at 10am.<br/>\\n<i style=\\\"font-size: 14pt; color: blue;\\\">Please read the report report-2023-06-08.xlsx.</i><br/>\\n        and remember:\\n        <ul>\\n<li>Drink H<sub>2</sub>O</li>\\n<li>2<sup>8</sup> = 256</li>\\n</ul>\"\n",
      "    },\n",
      "    \"email_002\": {\n",
      "        \"subject\": \"<b>Meeting Tomorrow</b>\",\n",
      "        \"email-logo\": \"<img alt=\\\"Logo\\\" src=\\\"./email-logo-01.png\\\" style=\\\"width: 20%;\\\"/>\",\n",
      "        \"from\": \"joe.002@example.com\",\n",
      "        \"to\": \"tom.002@example.com\",\n",
      "        \"cc\": \"charlie.002@example.com\",\n",
      "        \"bcc\": \"ben.002@example.com\",\n",
      "        \"body\": \"Let's meet tomorrow at 10am.<br/>\\n<i style=\\\"font-size: 14pt; color: blue;\\\">Please read the report report-2023-06-08.xlsx.</i><br/>\\n        and remember:\\n        <ul>\\n<li>Drink H<sub>2</sub>O</li>\\n<li>2<sup>8</sup> = 256</li>\\n</ul>\"\n",
      "    }\n",
      "}\n"
     ]
    }
   ],
   "source": [
    "def read_json_file(file_path):\n",
    "    with open(file_path, \"r\", encoding=\"utf-8\") as f:\n",
    "        return json.load(f)\n",
    "\n",
    "\n",
    "def replace_variables(template, values):\n",
    "    if isinstance(template, dict):\n",
    "        return {\n",
    "            key: replace_variables(value, values) for key, value in template.items()\n",
    "        }\n",
    "    elif isinstance(template, str):\n",
    "        return re.sub(\n",
    "            r\"\\[\\[(.*?)\\]\\]\", lambda m: values.get(m.group(1), m.group(0)), template\n",
    "        )\n",
    "    else:\n",
    "        return template\n",
    "\n",
    "\n",
    "def merge_json_emails(template_json, values_json):\n",
    "    final_json = {}\n",
    "    for email_key, email_values in values_json.items():\n",
    "        final_json[email_key] = replace_variables(template_json[\"email\"], email_values)\n",
    "    return final_json\n",
    "\n",
    "\n",
    "# Main code\n",
    "json_template = read_json_file(JSON_TEMPLATE_FILE_PATH)\n",
    "data_input_json = read_json_file(JSON_INPUT_FILE_PATH)\n",
    "\n",
    "merged_json = merge_json_emails(json_template, data_input_json)\n",
    "\n",
    "print(json.dumps(merged_json, indent=4))\n",
    "\n",
    "save_json_to_file(json.dumps(merged_json, indent=4), JSON_OUTPUT_FILE_PATH)"
   ]
  }
 ],
 "metadata": {
  "kernelspec": {
   "display_name": ".venv",
   "language": "python",
   "name": "python3"
  },
  "language_info": {
   "codemirror_mode": {
    "name": "ipython",
    "version": 3
   },
   "file_extension": ".py",
   "mimetype": "text/x-python",
   "name": "python",
   "nbconvert_exporter": "python",
   "pygments_lexer": "ipython3",
   "version": "3.11.6"
  }
 },
 "nbformat": 4,
 "nbformat_minor": 2
}

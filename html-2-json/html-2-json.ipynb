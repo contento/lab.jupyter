{
 "cells": [
  {
   "cell_type": "markdown",
   "metadata": {},
   "source": [
    "# html-2-json.ipynb"
   ]
  },
  {
   "cell_type": "code",
   "execution_count": null,
   "metadata": {},
   "outputs": [],
   "source": [
    "!pip install -U beautifulsoup4"
   ]
  },
  {
   "cell_type": "code",
   "execution_count": 11,
   "metadata": {},
   "outputs": [
    {
     "name": "stdout",
     "output_type": "stream",
     "text": [
      "{\n",
      "    \"email\": {\n",
      "        \"subject\": \"<b>Meeting Tomorrow</b>\",\n",
      "        \"email-logo\": \"<img alt=\\\"Logo\\\" src=\\\"./email-logo-01.png\\\" style=\\\"width: 20%;\\\"/>\",\n",
      "        \"from\": \"jane.doe@example.com\",\n",
      "        \"to\": \"john.doe@example.com\",\n",
      "        \"cc\": \"manager@example.com\",\n",
      "        \"bcc\": \"hr@example.com\",\n",
      "        \"body\": \"<br/>Let's meet tomorrow at 10am.<br/>\\n<i style=\\\"font-size: 14pt; color: blue;\\\">Please read the presentation from last week.</i>\"\n",
      "    }\n",
      "}\n"
     ]
    }
   ],
   "source": [
    "import json\n",
    "from bs4 import BeautifulSoup\n",
    "\n",
    "# Define constants\n",
    "EMAIL_TAG = \"email-tag\"\n",
    "HTML_FILE_PATH = \"email.html\"\n",
    "JSON_FILE_PATH = HTML_FILE_PATH.rsplit('.', 1)[0] + '.json'\n",
    "\n",
    "# Function to extract nested tags\n",
    "def extract_nested_tags(tag):\n",
    "    children = {}\n",
    "    for child in tag.find_all(attrs={EMAIL_TAG: True}, recursive=False):\n",
    "        child_tag = child.get(EMAIL_TAG)\n",
    "        children[child_tag] = extract_nested_tags(child)\n",
    "    \n",
    "    if children:\n",
    "        return children\n",
    "    else:\n",
    "        return str(tag.encode_contents().decode('utf-8')).strip()\n",
    "\n",
    "# Function to extract email tags to JSON\n",
    "def extract_email_tags_to_json(file_path):\n",
    "    with open(file_path, 'r', encoding='utf-8') as f:\n",
    "        html_content = f.read()\n",
    "\n",
    "    soup = BeautifulSoup(html_content, 'html.parser')\n",
    "    root_tag = soup.find(attrs={EMAIL_TAG: \"email\"})\n",
    "    if root_tag:\n",
    "        result = {root_tag.get(EMAIL_TAG): extract_nested_tags(root_tag)}\n",
    "        return json.dumps(result, indent=4)\n",
    "    else:\n",
    "        return json.dumps({}, indent=4)\n",
    "\n",
    "# Function to save JSON to file\n",
    "def save_json_to_file(json_output, file_path):\n",
    "    with open(file_path, 'w', encoding='utf-8') as json_file:\n",
    "        json_file.write(json_output)\n",
    "\n",
    "# Main code to run the functions\n",
    "json_output = extract_email_tags_to_json(HTML_FILE_PATH)\n",
    "save_json_to_file(json_output, JSON_FILE_PATH)\n",
    "print(json_output)\n"
   ]
  }
 ],
 "metadata": {
  "kernelspec": {
   "display_name": ".venv",
   "language": "python",
   "name": "python3"
  },
  "language_info": {
   "codemirror_mode": {
    "name": "ipython",
    "version": 3
   },
   "file_extension": ".py",
   "mimetype": "text/x-python",
   "name": "python",
   "nbconvert_exporter": "python",
   "pygments_lexer": "ipython3",
   "version": "3.11.6"
  }
 },
 "nbformat": 4,
 "nbformat_minor": 2
}

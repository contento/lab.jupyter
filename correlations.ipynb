{
 "cells": [
  {
   "attachments": {},
   "cell_type": "markdown",
   "metadata": {},
   "source": [
    "# Correlations"
   ]
  },
  {
   "attachments": {},
   "cell_type": "markdown",
   "metadata": {},
   "source": [
    "### Dataset Iris - Pearson, Spearman and Kendall "
   ]
  },
  {
   "cell_type": "code",
   "execution_count": 2,
   "metadata": {},
   "outputs": [
    {
     "name": "stdout",
     "output_type": "stream",
     "text": [
      "Pearson Correlations:\n",
      "                   sepal length (cm)  sepal width (cm)  petal length (cm)   \n",
      "sepal length (cm)           1.000000         -0.117570           0.871754  \\\n",
      "sepal width (cm)           -0.117570          1.000000          -0.428440   \n",
      "petal length (cm)           0.871754         -0.428440           1.000000   \n",
      "petal width (cm)            0.817941         -0.366126           0.962865   \n",
      "\n",
      "                   petal width (cm)  \n",
      "sepal length (cm)          0.817941  \n",
      "sepal width (cm)          -0.366126  \n",
      "petal length (cm)          0.962865  \n",
      "petal width (cm)           1.000000  \n",
      "\n",
      "Spearman Correlations:\n",
      "                   sepal length (cm)  sepal width (cm)  petal length (cm)   \n",
      "sepal length (cm)           1.000000         -0.166778           0.881898  \\\n",
      "sepal width (cm)           -0.166778          1.000000          -0.309635   \n",
      "petal length (cm)           0.881898         -0.309635           1.000000   \n",
      "petal width (cm)            0.834289         -0.289032           0.937667   \n",
      "\n",
      "                   petal width (cm)  \n",
      "sepal length (cm)          0.834289  \n",
      "sepal width (cm)          -0.289032  \n",
      "petal length (cm)          0.937667  \n",
      "petal width (cm)           1.000000  \n",
      "\n",
      "Kendall Correlations:\n",
      "                   sepal length (cm)  sepal width (cm)  petal length (cm)   \n",
      "sepal length (cm)           1.000000         -0.076997           0.718516  \\\n",
      "sepal width (cm)           -0.076997          1.000000          -0.185994   \n",
      "petal length (cm)           0.718516         -0.185994           1.000000   \n",
      "petal width (cm)            0.655309         -0.157126           0.806891   \n",
      "\n",
      "                   petal width (cm)  \n",
      "sepal length (cm)          0.655309  \n",
      "sepal width (cm)          -0.157126  \n",
      "petal length (cm)          0.806891  \n",
      "petal width (cm)           1.000000  \n"
     ]
    }
   ],
   "source": [
    "from sklearn.datasets import load_iris\n",
    "import pandas as pd\n",
    "from scipy.stats import pearsonr, spearmanr, kendalltau\n",
    "\n",
    "# Load the iris dataset\n",
    "iris = load_iris()\n",
    "\n",
    "# Convert the dataset into a pandas DataFrame\n",
    "iris_df = pd.DataFrame(data=iris.data, columns=iris.feature_names)\n",
    "\n",
    "# Calculate Pearson correlations\n",
    "pearson_corr_matrix = iris_df.corr(method='pearson')\n",
    "\n",
    "print(\"Pearson Correlations:\")\n",
    "print(pearson_corr_matrix)\n",
    "\n",
    "# Calculate Spearman correlations\n",
    "spearman_corr_matrix = iris_df.corr(method='spearman')\n",
    "\n",
    "print(\"\\nSpearman Correlations:\")\n",
    "print(spearman_corr_matrix)\n",
    "\n",
    "# Calculate Kendall correlations\n",
    "kendall_corr_matrix = iris_df.corr(method='kendall')\n",
    "\n",
    "print(\"\\nKendall Correlations:\")\n",
    "print(kendall_corr_matrix)\n"
   ]
  },
  {
   "attachments": {},
   "cell_type": "markdown",
   "metadata": {},
   "source": [
    "## Dataset Diabetes - Pearson"
   ]
  },
  {
   "cell_type": "code",
   "execution_count": 16,
   "metadata": {},
   "outputs": [
    {
     "name": "stdout",
     "output_type": "stream",
     "text": [
      "        age       sex       bmi        bp        s1        s2        s3   \n",
      "0  0.038076  0.050680  0.061696  0.021872 -0.044223 -0.034821 -0.043401  \\\n",
      "1 -0.001882 -0.044642 -0.051474 -0.026328 -0.008449 -0.019163  0.074412   \n",
      "2  0.085299  0.050680  0.044451 -0.005670 -0.045599 -0.034194 -0.032356   \n",
      "3 -0.089063 -0.044642 -0.011595 -0.036656  0.012191  0.024991 -0.036038   \n",
      "4  0.005383 -0.044642 -0.036385  0.021872  0.003935  0.015596  0.008142   \n",
      "\n",
      "         s4        s5        s6  target  \n",
      "0 -0.002592  0.019907 -0.017646   151.0  \n",
      "1 -0.039493 -0.068332 -0.092204    75.0  \n",
      "2 -0.002592  0.002861 -0.025930   141.0  \n",
      "3  0.034309  0.022688 -0.009362   206.0  \n",
      "4 -0.002592 -0.031988 -0.046641   135.0  \n",
      "Most correlated variables with the target variable:\n",
      "bmi    0.586450\n",
      "s5     0.565883\n",
      "bp     0.441482\n",
      "s4     0.430453\n",
      "s3     0.394789\n",
      "s6     0.382483\n",
      "s1     0.212022\n",
      "age    0.187889\n",
      "s2     0.174054\n",
      "sex    0.043062\n",
      "Name: target, dtype: float64\n",
      "\n",
      "The most correlated variable with the target variable:\n",
      "bmi\n",
      "\n",
      "The most correlated variable with the target variable:\n",
      "0.5864501344746885\n",
      "bmi\n"
     ]
    }
   ],
   "source": [
    "import pandas as pd\n",
    "from sklearn.datasets import load_diabetes\n",
    "from scipy.stats import pearsonr\n",
    "\n",
    "# Load the Diabetes dataset\n",
    "diabetes = load_diabetes()\n",
    "\n",
    "# Convert the dataset into a pandas DataFrame\n",
    "diabetes_df = pd.DataFrame(data=diabetes.data, columns=diabetes.feature_names)\n",
    "\n",
    "# Add the target variable to the DataFrame\n",
    "diabetes_df['target'] = diabetes.target\n",
    "\n",
    "# print first 5 rows of the DataFrame\n",
    "print(diabetes_df.head())\n",
    "\n",
    "# Calculate Pearson correlations with the target variable\n",
    "corr_with_target = diabetes_df.corr()['target'].drop('target')\n",
    "\n",
    "# Sort the correlations by their absolute values\n",
    "sorted_corr = corr_with_target.abs().sort_values(ascending=False)\n",
    "\n",
    "# Print the most correlated variables\n",
    "print(\"Most correlated variables with the target variable:\")\n",
    "print(sorted_corr)\n",
    "\n",
    "# print the most correlated variable\n",
    "print(\"\\nThe most correlated variable with the target variable:\")\n",
    "print(sorted_corr.index[0])\n",
    "\n",
    "# print the most correlated variable using max and idxmax\n",
    "print(\"\\nThe most correlated variable with the target variable:\")\n",
    "print(corr_with_target.max())\n",
    "print(corr_with_target.idxmax())\n",
    "\n"
   ]
  }
 ],
 "metadata": {
  "kernelspec": {
   "display_name": "venv",
   "language": "python",
   "name": "python3"
  },
  "language_info": {
   "codemirror_mode": {
    "name": "ipython",
    "version": 3
   },
   "file_extension": ".py",
   "mimetype": "text/x-python",
   "name": "python",
   "nbconvert_exporter": "python",
   "pygments_lexer": "ipython3",
   "version": "3.11.4"
  },
  "orig_nbformat": 4
 },
 "nbformat": 4,
 "nbformat_minor": 2
}

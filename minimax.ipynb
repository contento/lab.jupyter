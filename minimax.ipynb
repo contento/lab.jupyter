{
 "cells": [
  {
   "attachments": {},
   "cell_type": "markdown",
   "metadata": {},
   "source": [
    "# Minimax"
   ]
  },
  {
   "attachments": {},
   "cell_type": "markdown",
   "metadata": {},
   "source": [
    "## Print the Tree"
   ]
  },
  {
   "cell_type": "code",
   "execution_count": 42,
   "metadata": {},
   "outputs": [
    {
     "name": "stdout",
     "output_type": "stream",
     "text": [
      "// Minimax Tree\n",
      "digraph {\n",
      "\t3 [label=3]\n",
      "\t5 [label=5]\n",
      "\t6 [label=6]\n",
      "\t9 [label=9]\n",
      "\t2 [label=2]\n",
      "\t1 [label=1]\n",
      "\t8 [label=8]\n",
      "\t3 -> 5\n",
      "\t3 -> 6\n",
      "\t5 -> 9\n",
      "\t5 -> 2\n",
      "\t6 -> 1\n",
      "\t6 -> 8\n",
      "}\n",
      "\n"
     ]
    },
    {
     "data": {
      "text/plain": [
       "'test-output\\\\minimax-tree.gv.pdf'"
      ]
     },
     "execution_count": 42,
     "metadata": {},
     "output_type": "execute_result"
    }
   ],
   "source": [
    "import graphviz\n",
    "\n",
    "class Node:\n",
    "    def __init__(self, value):\n",
    "        self.value = value\n",
    "        self.children = []\n",
    "    \n",
    "    def add_child(self, node):\n",
    "        self.children.append(node)\n",
    "    \n",
    "    def is_terminal(self):\n",
    "        return len(self.children) == 0\n",
    "    \n",
    "    def minimax(self, depth, maximizingPlayer):\n",
    "        if depth == 0 or self.is_terminal():\n",
    "            return self.value\n",
    "        if maximizingPlayer:\n",
    "            value = -infinity\n",
    "            for child in self.children:\n",
    "                value = max(value, child.minimax(depth - 1, False))\n",
    "            return value\n",
    "        else:\n",
    "            value = infinity\n",
    "            for child in self.children:\n",
    "                value = min(value, child.minimax(depth - 1, True))\n",
    "            return value\n",
    "    \n",
    "    def __str__(self):\n",
    "        return str(self.value)\n",
    "\n",
    "root = Node(3)\n",
    "root.add_child(Node(5))\n",
    "root.add_child(Node(6))\n",
    "root.children[0].add_child(Node(9))\n",
    "root.children[0].add_child(Node(2))\n",
    "root.children[1].add_child(Node(1))\n",
    "root.children[1].add_child(Node(8))\n",
    "\n",
    "dot = graphviz.Digraph(comment='Minimax Tree')\n",
    "dot.node('3', '3')\n",
    "dot.node('5', '5')\n",
    "dot.node('6', '6')\n",
    "dot.node('9', '9')\n",
    "dot.node('2', '2')\n",
    "dot.node('1', '1')\n",
    "dot.node('8', '8')\n",
    "\n",
    "dot.edges(['35', '36'])\n",
    "dot.edges(['59', '52'])\n",
    "dot.edges(['61', '68'])\n",
    "\n",
    "print(dot.source)\n",
    "dot.render('test-output/minimax-tree.gv', view=True)"
   ]
  },
  {
   "attachments": {},
   "cell_type": "markdown",
   "metadata": {},
   "source": [
    "## Basic Minimax"
   ]
  },
  {
   "cell_type": "code",
   "execution_count": 17,
   "metadata": {},
   "outputs": [
    {
     "name": "stdout",
     "output_type": "stream",
     "text": [
      "6\n"
     ]
    }
   ],
   "source": [
    "import random\n",
    "\n",
    "# Define the Node class\n",
    "class Node:\n",
    "    def __init__(self, depth, num_children):\n",
    "        self.score = random.randint(-10, 10) if depth == 0 else None\n",
    "        self.children = [Node(depth-1, num_children) for _ in range(num_children)] if depth > 0 else []\n",
    "\n",
    "# Define the minimax function\n",
    "def minimax(node, depth, is_maximizing_player):\n",
    "    if depth == 0 or len(node.children) == 0:\n",
    "        return node.score\n",
    "\n",
    "    if is_maximizing_player:\n",
    "        max_score = float('-inf')\n",
    "        for child in node.children:\n",
    "            score = minimax(child, depth-1, False)\n",
    "            max_score = max(max_score, score)\n",
    "        return max_score\n",
    "    else:\n",
    "        min_score = float('inf')\n",
    "        for child in node.children:\n",
    "            score = minimax(child, depth-1, True)\n",
    "            min_score = min(min_score, score)\n",
    "        return min_score\n",
    "\n",
    "# Generate a random game tree and get the minimax score\n",
    "root = Node(3, 2)\n",
    "print(minimax(root, 3, True))\n"
   ]
  },
  {
   "attachments": {},
   "cell_type": "markdown",
   "metadata": {},
   "source": [
    "## Minimax with Test Board"
   ]
  },
  {
   "cell_type": "code",
   "execution_count": 16,
   "metadata": {},
   "outputs": [
    {
     "name": "stdout",
     "output_type": "stream",
     "text": [
      "['O', 'X', '_']\n",
      "['O', 'X', '_']\n",
      "['_', '_', '_']\n",
      "Minimax evaluation:  1\n"
     ]
    }
   ],
   "source": [
    "import math\n",
    "\n",
    "board = ['_' for _ in range(9)]  # '_': empty; 'X': player; 'O': opponent\n",
    "\n",
    "def print_board():\n",
    "    for i in range(3):\n",
    "        print(board[i*3:(i+1)*3])\n",
    "\n",
    "def check_win(player):\n",
    "    winning_states = [(0,1,2), (3,4,5), (6,7,8), (0,3,6), (1,4,7), (2,5,8), (0,4,8), (2,4,6)]\n",
    "    for state in winning_states:\n",
    "        if board[state[0]] == board[state[1]] == board[state[2]] == player:\n",
    "            return True\n",
    "    return False  # No win\n",
    "\n",
    "def minimax(board, depth, is_maximizing_player):\n",
    "    if check_win('X'):\n",
    "        return -1\n",
    "    elif check_win('O'):\n",
    "        return 1\n",
    "    elif '_' not in board:\n",
    "        return 0  # Draw\n",
    "\n",
    "    if is_maximizing_player:  # The 'O' player is maximizing player\n",
    "        max_eval = -math.inf\n",
    "        for i in range(9):\n",
    "            if board[i] == '_':\n",
    "                board[i] = 'O'\n",
    "                evaluation = minimax(board, depth+1, False)\n",
    "                board[i] = '_'\n",
    "                max_eval = max(max_eval, evaluation)\n",
    "        return max_eval\n",
    "    else:  # The 'X' player is minimizing player\n",
    "        min_eval = math.inf\n",
    "        for i in range(9):\n",
    "            if board[i] == '_':\n",
    "                board[i] = 'X'\n",
    "                evaluation = minimax(board, depth+1, True)\n",
    "                board[i] = '_'\n",
    "                min_eval = min(min_eval, evaluation)\n",
    "        return min_eval\n",
    "\n",
    "# Test it\n",
    "board[0] = 'O'\n",
    "board[1] = 'X'\n",
    "board[3] = 'O'\n",
    "board[4] = 'X'\n",
    "print_board()\n",
    "print(\"Minimax evaluation: \", minimax(board, 0, True))\n"
   ]
  },
  {
   "attachments": {},
   "cell_type": "markdown",
   "metadata": {},
   "source": [
    "## Tic-Tac-Toe with Player"
   ]
  },
  {
   "cell_type": "code",
   "execution_count": 5,
   "metadata": {},
   "outputs": [
    {
     "name": "stdout",
     "output_type": "stream",
     "text": [
      "Tic Tac Toe - You are O, the AI is X\n",
      "  |   |  \n",
      "---------\n",
      "  |   |  \n",
      "---------\n",
      "  |   |  \n",
      "---------\n"
     ]
    }
   ],
   "source": [
    "import sys\n",
    "\n",
    "def print_board(board):\n",
    "    for row in board:\n",
    "        print(\" | \".join(row))\n",
    "        print(\"-\" * 9)\n",
    "\n",
    "def is_winner(board, player):\n",
    "    for row in board:\n",
    "        if all([cell == player for cell in row]):\n",
    "            return True\n",
    "    for col in range(3):\n",
    "        if all([board[row][col] == player for row in range(3)]):\n",
    "            return True\n",
    "    if all([board[i][i] == player for i in range(3)]) or all([board[i][2 - i] == player for i in range(3)]):\n",
    "        return True\n",
    "    return False\n",
    "\n",
    "def is_full(board):\n",
    "    return all(all(cell != \" \" for cell in row) for row in board)\n",
    "\n",
    "def minimax(board, depth, is_maximizing):\n",
    "    if is_winner(board, \"O\"):\n",
    "        return -1\n",
    "    if is_winner(board, \"X\"):\n",
    "        return 1\n",
    "    if is_full(board):\n",
    "        return 0\n",
    "\n",
    "    if is_maximizing:\n",
    "        best_value = -sys.maxsize\n",
    "        for row in range(3):\n",
    "            for col in range(3):\n",
    "                if board[row][col] == \" \":\n",
    "                    board[row][col] = \"X\"\n",
    "                    value = minimax(board, depth + 1, False)\n",
    "                    board[row][col] = \" \"\n",
    "                    best_value = max(best_value, value)\n",
    "        return best_value\n",
    "    else:\n",
    "        best_value = sys.maxsize\n",
    "        for row in range(3):\n",
    "            for col in range(3):\n",
    "                if board[row][col] == \" \":\n",
    "                    board[row][col] = \"O\"\n",
    "                    value = minimax(board, depth + 1, True)\n",
    "                    board[row][col] = \" \"\n",
    "                    best_value = min(best_value, value)\n",
    "        return best_value\n",
    "\n",
    "def best_move(board):\n",
    "    best_value = -sys.maxsize\n",
    "    move = (-1, -1)\n",
    "    for row in range(3):\n",
    "        for col in range(3):\n",
    "            if board[row][col] == \" \":\n",
    "                board[row][col] = \"X\"\n",
    "                value = minimax(board, 0, False)\n",
    "                board[row][col] = \" \"\n",
    "                if value > best_value:\n",
    "                    best_value = value\n",
    "                    move = (row, col)\n",
    "    return move\n",
    "\n",
    "def main():\n",
    "    board = [[\" \" for _ in range(3)] for _ in range(3)]\n",
    "    print(\"Tic Tac Toe - You are O, the AI is X\")\n",
    "    print_board(board)\n",
    "\n",
    "    while not (is_winner(board, \"O\") or is_winner(board, \"X\") or is_full(board)):\n",
    "        row, col = map(int, input(\"Enter row and column (1-3) separated by space: \").split())\n",
    "        row -= 1\n",
    "        col -= 1\n",
    "        if board[row][col] == \" \":\n",
    "            board[row][col] = \"O\"\n",
    "            print_board(board)\n",
    "            if not (is_winner(board, \"O\") or is_full(board)):\n",
    "                print(\"AI's turn:\")\n",
    "                ai_move = best_move(board)\n",
    "                board[ai_move[0]][ai_move[1]] = \"X\"\n",
    "                print_board(board)\n",
    "        else:\n",
    "            print(\"Cell is already occupied. Try again.\")\n",
    "\n",
    "    if is_winner(board, \"O\"):\n",
    "        print(\"You win!\")\n",
    "    elif is_winner(board,    \"X\"):\n",
    "        print(\"AI wins!\")\n",
    "    else:\n",
    "        print(\"It's a draw!\")\n",
    "\n",
    "if __name__ == \"__main__\":\n",
    "    main()\n"
   ]
  }
 ],
 "metadata": {
  "kernelspec": {
   "display_name": "Python 3",
   "language": "python",
   "name": "python3"
  },
  "language_info": {
   "codemirror_mode": {
    "name": "ipython",
    "version": 3
   },
   "file_extension": ".py",
   "mimetype": "text/x-python",
   "name": "python",
   "nbconvert_exporter": "python",
   "pygments_lexer": "ipython3",
   "version": "3.11.3"
  },
  "orig_nbformat": 4
 },
 "nbformat": 4,
 "nbformat_minor": 2
}
